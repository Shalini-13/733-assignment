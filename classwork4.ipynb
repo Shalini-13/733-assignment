{
  "nbformat": 4,
  "nbformat_minor": 0,
  "metadata": {
    "colab": {
      "provenance": [],
      "authorship_tag": "ABX9TyMl/n+c6g12yOGkQ/40TFsf",
      "include_colab_link": true
    },
    "kernelspec": {
      "name": "python3",
      "display_name": "Python 3"
    },
    "language_info": {
      "name": "python"
    }
  },
  "cells": [
    {
      "cell_type": "markdown",
      "metadata": {
        "id": "view-in-github",
        "colab_type": "text"
      },
      "source": [
        "<a href=\"https://colab.research.google.com/github/Shalini-13/733-assignment/blob/main/classwork4.ipynb\" target=\"_parent\"><img src=\"https://colab.research.google.com/assets/colab-badge.svg\" alt=\"Open In Colab\"/></a>"
      ]
    },
    {
      "cell_type": "code",
      "execution_count": 3,
      "metadata": {
        "colab": {
          "base_uri": "https://localhost:8080/"
        },
        "id": "bK6nbrf47Cpi",
        "outputId": "5becee3f-9684-402e-ce58-47dd40f745d6"
      },
      "outputs": [
        {
          "output_type": "stream",
          "name": "stdout",
          "text": [
            "📊 5-Fold Cross-Validation Accuracy:\n",
            "Logistic Regression: 0.6846\n",
            "SVM: 0.8385\n",
            "Naive Bayes: 0.7308\n",
            "Random Forest: 0.6462\n",
            "\n",
            "🔁 Leave-One-Plot-Out Accuracy (Logistic Regression): 0.6796\n"
          ]
        }
      ],
      "source": [
        "#Import required libraries\n",
        "import pandas as pd\n",
        "from sklearn.model_selection import cross_val_score, GroupKFold\n",
        "from sklearn.feature_extraction.text import TfidfVectorizer\n",
        "from sklearn.pipeline import Pipeline\n",
        "from sklearn.linear_model import LogisticRegression\n",
        "from sklearn.svm import SVC\n",
        "from sklearn.naive_bayes import MultinomialNB\n",
        "from sklearn.ensemble import RandomForestClassifier\n",
        "from sklearn.preprocessing import LabelEncoder\n",
        "import string\n",
        "\n",
        "#Load data\n",
        "file_path = '/content/data_stories_one_shot.csv'\n",
        "df = pd.read_csv(file_path)\n",
        "\n",
        "#Step 1: Basic Cleaning (Lowercase + Punctuation Removal)\n",
        "df['processed'] = df['Sentence'].apply(lambda x: x.lower().translate(str.maketrans('', '', string.punctuation)))\n",
        "\n",
        "#Step 2: Label Setup\n",
        "df['label'] = df['Stage'].apply(lambda x: 'Show' if x == 1 else 'Tell')\n",
        "df['label_encoded'] = LabelEncoder().fit_transform(df['label'])\n",
        "\n",
        "#Step 3: Define Models\n",
        "models = {\n",
        "    \"Logistic Regression\": LogisticRegression(max_iter=1000),\n",
        "    \"SVM\": SVC(kernel='linear'),\n",
        "    \"Naive Bayes\": MultinomialNB(),\n",
        "    \"Random Forest\": RandomForestClassifier()\n",
        "}\n",
        "\n",
        "#Step 4: TF-IDF Vectorization + 5-Fold Cross-Validation\n",
        "results_cv = {}\n",
        "for name, model in models.items():\n",
        "    pipeline = Pipeline([('tfidf', TfidfVectorizer()), ('clf', model)])\n",
        "    scores = cross_val_score(pipeline, df['processed'], df['label_encoded'], cv=5, scoring='accuracy')\n",
        "    results_cv[name] = scores.mean()\n",
        "\n",
        "#Step 5: Leave-One-Plot-Out Cross-Validation (Logistic Regression)\n",
        "group_kfold = GroupKFold(n_splits=len(df['Plot_Name'].unique()))\n",
        "pipeline_lr = Pipeline([('tfidf', TfidfVectorizer()), ('clf', LogisticRegression(max_iter=1000))])\n",
        "scores_lopo = cross_val_score(\n",
        "    pipeline_lr,\n",
        "    df['processed'],\n",
        "    df['label_encoded'],\n",
        "    cv=group_kfold.split(df['processed'], df['label_encoded'], groups=df['Plot_Name'])\n",
        ")\n",
        "\n",
        "#Step 6: Display Results\n",
        "print(\"📊 5-Fold Cross-Validation Accuracy:\")\n",
        "for model_name, acc in results_cv.items():\n",
        "    print(f\"{model_name}: {acc:.4f}\")\n",
        "\n",
        "print(f\"\\n🔁 Leave-One-Plot-Out Accuracy (Logistic Regression): {scores_lopo.mean():.4f}\")"
      ]
    }
  ]
}